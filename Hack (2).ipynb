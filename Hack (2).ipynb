{
  "nbformat": 4,
  "nbformat_minor": 0,
  "metadata": {
    "accelerator": "GPU",
    "colab": {
      "name": "Hack.ipynb",
      "provenance": []
    },
    "kernelspec": {
      "display_name": "Python 3",
      "language": "python",
      "name": "python3"
    },
    "language_info": {
      "codemirror_mode": {
        "name": "ipython",
        "version": 3
      },
      "file_extension": ".py",
      "mimetype": "text/x-python",
      "name": "python",
      "nbconvert_exporter": "python",
      "pygments_lexer": "ipython3",
      "version": "3.8.3"
    }
  },
  "cells": [
    {
      "cell_type": "markdown",
      "metadata": {
        "id": "aqi5fn1TvWzj"
      },
      "source": [
        "# Supplement Sales Prediction\n",
        "\n",
        "Your Client WOMart is a leading nutrition and supplement retail chain that offers a comprehensive range of products for all your wellness and fitness needs. \n",
        "\n",
        "WOMart follows a multi-channel distribution strategy with 350+ retail stores spread across 100+ cities. \n",
        "\n",
        "Effective forecasting for store sales gives essential insight into upcoming cash flow, meaning WOMart can more accurately plan the cashflow at the store level.\n",
        "\n",
        "Sales data for 18 months from 365 stores of WOMart is available along with information on Store Type, Location Type for each store, Region Code for every store, Discount provided by the store on every day, Number of Orders everyday etc.\n",
        "\n",
        "**Your task is to predict the store sales for each store in the test set for the next two months.**"
      ]
    },
    {
      "cell_type": "code",
      "metadata": {
        "id": "DMVLkB1LvWzs"
      },
      "source": [
        "import numpy as np \n",
        "import pandas as pd\n",
        "from sklearn.metrics import r2_score,mean_squared_error"
      ],
      "execution_count": null,
      "outputs": []
    },
    {
      "cell_type": "code",
      "metadata": {
        "id": "5H_m1TRRvWzx"
      },
      "source": [
        "train1 = pd.read_csv('TRAIN (1).csv')\n",
        "test =  pd.read_csv('TEST_FINAL.csv')"
      ],
      "execution_count": null,
      "outputs": []
    },
    {
      "cell_type": "code",
      "metadata": {
        "id": "w8imx-SNzLRR"
      },
      "source": [
        "train = train1[train1['Sales']!=0]"
      ],
      "execution_count": null,
      "outputs": []
    },
    {
      "cell_type": "code",
      "metadata": {
        "colab": {
          "base_uri": "https://localhost:8080/"
        },
        "id": "seoAXqDcvWzz",
        "outputId": "1e89285e-a258-4b53-b446-5069cc95491c"
      },
      "source": [
        "train.shape, test.shape"
      ],
      "execution_count": null,
      "outputs": [
        {
          "output_type": "execute_result",
          "data": {
            "text/plain": [
              "((188321, 10), (22265, 8))"
            ]
          },
          "metadata": {},
          "execution_count": 51
        }
      ]
    },
    {
      "cell_type": "code",
      "metadata": {
        "colab": {
          "base_uri": "https://localhost:8080/",
          "height": 205
        },
        "id": "Y7IQbcqKsFYH",
        "outputId": "65b28b01-1cbb-4e50-82a6-25a5ba282e62"
      },
      "source": [
        "train.head()"
      ],
      "execution_count": null,
      "outputs": [
        {
          "output_type": "execute_result",
          "data": {
            "text/html": [
              "<div>\n",
              "<style scoped>\n",
              "    .dataframe tbody tr th:only-of-type {\n",
              "        vertical-align: middle;\n",
              "    }\n",
              "\n",
              "    .dataframe tbody tr th {\n",
              "        vertical-align: top;\n",
              "    }\n",
              "\n",
              "    .dataframe thead th {\n",
              "        text-align: right;\n",
              "    }\n",
              "</style>\n",
              "<table border=\"1\" class=\"dataframe\">\n",
              "  <thead>\n",
              "    <tr style=\"text-align: right;\">\n",
              "      <th></th>\n",
              "      <th>ID</th>\n",
              "      <th>Store_id</th>\n",
              "      <th>Store_Type</th>\n",
              "      <th>Location_Type</th>\n",
              "      <th>Region_Code</th>\n",
              "      <th>Date</th>\n",
              "      <th>Holiday</th>\n",
              "      <th>Discount</th>\n",
              "      <th>#Order</th>\n",
              "      <th>Sales</th>\n",
              "    </tr>\n",
              "  </thead>\n",
              "  <tbody>\n",
              "    <tr>\n",
              "      <th>0</th>\n",
              "      <td>T1000001</td>\n",
              "      <td>1</td>\n",
              "      <td>S1</td>\n",
              "      <td>L3</td>\n",
              "      <td>R1</td>\n",
              "      <td>2018-01-01</td>\n",
              "      <td>1</td>\n",
              "      <td>Yes</td>\n",
              "      <td>9</td>\n",
              "      <td>7011.84</td>\n",
              "    </tr>\n",
              "    <tr>\n",
              "      <th>1</th>\n",
              "      <td>T1000002</td>\n",
              "      <td>253</td>\n",
              "      <td>S4</td>\n",
              "      <td>L2</td>\n",
              "      <td>R1</td>\n",
              "      <td>2018-01-01</td>\n",
              "      <td>1</td>\n",
              "      <td>Yes</td>\n",
              "      <td>60</td>\n",
              "      <td>51789.12</td>\n",
              "    </tr>\n",
              "    <tr>\n",
              "      <th>2</th>\n",
              "      <td>T1000003</td>\n",
              "      <td>252</td>\n",
              "      <td>S3</td>\n",
              "      <td>L2</td>\n",
              "      <td>R1</td>\n",
              "      <td>2018-01-01</td>\n",
              "      <td>1</td>\n",
              "      <td>Yes</td>\n",
              "      <td>42</td>\n",
              "      <td>36868.20</td>\n",
              "    </tr>\n",
              "    <tr>\n",
              "      <th>3</th>\n",
              "      <td>T1000004</td>\n",
              "      <td>251</td>\n",
              "      <td>S2</td>\n",
              "      <td>L3</td>\n",
              "      <td>R1</td>\n",
              "      <td>2018-01-01</td>\n",
              "      <td>1</td>\n",
              "      <td>Yes</td>\n",
              "      <td>23</td>\n",
              "      <td>19715.16</td>\n",
              "    </tr>\n",
              "    <tr>\n",
              "      <th>4</th>\n",
              "      <td>T1000005</td>\n",
              "      <td>250</td>\n",
              "      <td>S2</td>\n",
              "      <td>L3</td>\n",
              "      <td>R4</td>\n",
              "      <td>2018-01-01</td>\n",
              "      <td>1</td>\n",
              "      <td>Yes</td>\n",
              "      <td>62</td>\n",
              "      <td>45614.52</td>\n",
              "    </tr>\n",
              "  </tbody>\n",
              "</table>\n",
              "</div>"
            ],
            "text/plain": [
              "         ID  Store_id Store_Type  ... Discount #Order     Sales\n",
              "0  T1000001         1         S1  ...      Yes      9   7011.84\n",
              "1  T1000002       253         S4  ...      Yes     60  51789.12\n",
              "2  T1000003       252         S3  ...      Yes     42  36868.20\n",
              "3  T1000004       251         S2  ...      Yes     23  19715.16\n",
              "4  T1000005       250         S2  ...      Yes     62  45614.52\n",
              "\n",
              "[5 rows x 10 columns]"
            ]
          },
          "metadata": {},
          "execution_count": 52
        }
      ]
    },
    {
      "cell_type": "code",
      "metadata": {
        "id": "Dpu7vqrDvWz4",
        "colab": {
          "base_uri": "https://localhost:8080/"
        },
        "outputId": "0c45872a-fa3e-431e-cd79-f85e6b996aad"
      },
      "source": [
        "train.drop(columns=['ID','#Order'],axis=1, inplace=True)\n",
        "test.drop(columns=['ID'],axis=1, inplace=True)"
      ],
      "execution_count": null,
      "outputs": [
        {
          "output_type": "stream",
          "name": "stderr",
          "text": [
            "/usr/local/lib/python3.7/dist-packages/pandas/core/frame.py:4174: SettingWithCopyWarning: \n",
            "A value is trying to be set on a copy of a slice from a DataFrame\n",
            "\n",
            "See the caveats in the documentation: https://pandas.pydata.org/pandas-docs/stable/user_guide/indexing.html#returning-a-view-versus-a-copy\n",
            "  errors=errors,\n"
          ]
        }
      ]
    },
    {
      "cell_type": "markdown",
      "metadata": {
        "id": "k4YwLJ6zMSLA"
      },
      "source": [
        "#Data Manipulation"
      ]
    },
    {
      "cell_type": "code",
      "metadata": {
        "colab": {
          "base_uri": "https://localhost:8080/"
        },
        "id": "yAO9jwz4vWz7",
        "outputId": "0dcb9867-2ced-4e65-8ad4-600a224f7165"
      },
      "source": [
        "train1.skew()"
      ],
      "execution_count": null,
      "outputs": [
        {
          "output_type": "execute_result",
          "data": {
            "text/plain": [
              "Store_id    0.000000\n",
              "Holiday     2.177176\n",
              "#Order      1.372874\n",
              "Sales       1.248819\n",
              "dtype: float64"
            ]
          },
          "metadata": {},
          "execution_count": 54
        }
      ]
    },
    {
      "cell_type": "code",
      "metadata": {
        "colab": {
          "base_uri": "https://localhost:8080/",
          "height": 265
        },
        "id": "rx2ylfJSOGEz",
        "outputId": "1470299c-3d52-486e-cfdc-636fb8e29471"
      },
      "source": [
        "train1['Holiday'].hist();"
      ],
      "execution_count": null,
      "outputs": [
        {
          "output_type": "display_data",
          "data": {
            "image/png": "[encoded data removed]",
            "text/plain": [
              "<Figure size 432x288 with 1 Axes>"
            ]
          },
          "metadata": {
            "needs_background": "light"
          }
        }
      ]
    },
    {
      "cell_type": "code",
      "metadata": {
        "colab": {
          "base_uri": "https://localhost:8080/",
          "height": 295
        },
        "id": "ZWLVEPmbOS-S",
        "outputId": "e54c859d-2ae5-4dce-87fe-4c8a20accd36"
      },
      "source": [
        "#importing necessary libraries\n",
        "import scipy.stats as stats\n",
        "import pylab\n",
        "\n",
        "stats.probplot(train1.Holiday,plot=pylab);\n"
      ],
      "execution_count": null,
      "outputs": [
        {
          "output_type": "display_data",
          "data": {
            "image/png": "[encoded data removed]",
            "text/plain": [
              "<Figure size 432x288 with 1 Axes>"
            ]
          },
          "metadata": {
            "needs_background": "light"
          }
        }
      ]
    },
    {
      "cell_type": "code",
      "metadata": {
        "colab": {
          "base_uri": "https://localhost:8080/"
        },
        "id": "cph_fCBFPSYb",
        "outputId": "3eb34831-9936-42ba-c33c-adff5d757270"
      },
      "source": [
        "\n",
        "#performing logarithmic transformation on the feature\n",
        "train1['Holiday']=np.log(train1['Holiday'])\n"
      ],
      "execution_count": null,
      "outputs": [
        {
          "output_type": "stream",
          "name": "stderr",
          "text": [
            "/usr/local/lib/python3.7/dist-packages/pandas/core/series.py:726: RuntimeWarning: divide by zero encountered in log\n",
            "  result = getattr(ufunc, method)(*inputs, **kwargs)\n"
          ]
        }
      ]
    },
    {
      "cell_type": "code",
      "metadata": {
        "colab": {
          "base_uri": "https://localhost:8080/",
          "height": 331
        },
        "id": "zDFJM1YgTTV7",
        "outputId": "573c9ebc-4027-47b0-925b-e92e20b6c439"
      },
      "source": [
        "stats.probplot(train1.Holiday,plot=pylab);\n"
      ],
      "execution_count": null,
      "outputs": [
        {
          "output_type": "stream",
          "name": "stderr",
          "text": [
            "/usr/local/lib/python3.7/dist-packages/numpy/lib/function_base.py:2474: RuntimeWarning: invalid value encountered in subtract\n",
            "  X -= avg[:, None]\n"
          ]
        },
        {
          "output_type": "display_data",
          "data": {
            "image/png": "[encoded data removed]",
            "text/plain": [
              "<Figure size 432x288 with 1 Axes>"
            ]
          },
          "metadata": {
            "needs_background": "light"
          }
        }
      ]
    },
    {
      "cell_type": "code",
      "metadata": {
        "id": "ZZRRgUEYQXbd"
      },
      "source": [
        "train1['Sales']=1/train1.Sales\n"
      ],
      "execution_count": null,
      "outputs": []
    },
    {
      "cell_type": "code",
      "metadata": {
        "id": "HAXiOdR4vW0C"
      },
      "source": [
        "#As the data is Time-Series we sort them in ascending order so that the model can perform on the historical data\n",
        "# sorting data with respect to date\n",
        "train = train.sort_values(by='Date')\n"
      ],
      "execution_count": null,
      "outputs": []
    },
    {
      "cell_type": "markdown",
      "metadata": {
        "id": "_gHOnIP5MXvS"
      },
      "source": [
        "#Exploratory Data Analysis"
      ]
    },
    {
      "cell_type": "code",
      "metadata": {
        "id": "8_CIAkFIvW0I"
      },
      "source": [
        "size = train['Store_Type'].value_counts() #There are a total of 4 types of stores: S1, S2, S3, S4.There are 45 stores in total 188340"
      ],
      "execution_count": null,
      "outputs": []
    },
    {
      "cell_type": "code",
      "metadata": {
        "id": "QlxfhPhmvW0J"
      },
      "source": [
        ""
      ],
      "execution_count": null,
      "outputs": []
    },
    {
      "cell_type": "code",
      "metadata": {
        "colab": {
          "base_uri": "https://localhost:8080/"
        },
        "id": "dGuf9Ah6vW0L",
        "outputId": "fb7df372-b7c8-4b1f-8aa6-9869304773b6"
      },
      "source": [
        "#pie-chart for the visual representation of store types\n",
        "import matplotlib.pyplot as plt\n",
        "labels = 'S1','S4','S2', 'S3'\n",
        "sizes = [(88752/(188340))*100,(45924/(188340))*100,(28896/(188340))*100, (24768/(188340))*100]\n",
        "fig1, ax1 = plt.subplots()\n",
        "ax1.pie(size, labels=labels, autopct='%1.1f%%',\n",
        "        shadow=True, startangle=90)\n",
        "ax1.axis('equal')  # Equal aspect ratio ensures that pie is drawn as a circle.\n",
        "plt.show()"
      ],
      "execution_count": null,
      "outputs": [
        {
          "output_type": "display_data",
          "data": {
            "image/png": "[encoded data removed]",
            "text/plain": [
              "<Figure size 432x288 with 1 Axes>"
            ]
          },
          "metadata": {}
        }
      ]
    },
    {
      "cell_type": "code",
      "metadata": {
        "colab": {
          "base_uri": "https://localhost:8080/"
        },
        "id": "GbpDRziIvW0N",
        "outputId": "0612237a-dbc1-4a15-db97-ce0e7e48334e"
      },
      "source": [
        "size"
      ],
      "execution_count": null,
      "outputs": [
        {
          "output_type": "execute_result",
          "data": {
            "text/plain": [
              "S1    88745\n",
              "S4    45913\n",
              "S2    28896\n",
              "S3    24767\n",
              "Name: Store_Type, dtype: int64"
            ]
          },
          "metadata": {},
          "execution_count": 63
        }
      ]
    },
    {
      "cell_type": "markdown",
      "metadata": {
        "id": "_dLoTTTCMiqK"
      },
      "source": [
        "#By boxplot and piechart, we can say that type S1 store is largest amoung all"
      ]
    },
    {
      "cell_type": "code",
      "metadata": {
        "colab": {
          "base_uri": "https://localhost:8080/",
          "height": 389
        },
        "id": "d671yUjOvW0P",
        "outputId": "5381d144-fb8d-4c9e-c794-19ae4eda9175"
      },
      "source": [
        "#boxplot for weekly sales for different types of stores :\n",
        "import seaborn as sns\n",
        "f, ax = plt.subplots(figsize=(8, 6))\n",
        "fig = sns.boxplot(x='Store_Type', y='Sales', data=train, showfliers=False)"
      ],
      "execution_count": null,
      "outputs": [
        {
          "output_type": "display_data",
          "data": {
            "image/png": "[encoded data removed]",
            "text/plain": [
              "<Figure size 576x432 with 1 Axes>"
            ]
          },
          "metadata": {
            "needs_background": "light"
          }
        }
      ]
    },
    {
      "cell_type": "code",
      "metadata": {
        "colab": {
          "base_uri": "https://localhost:8080/"
        },
        "id": "vaMBBQy4vW0R",
        "outputId": "a547d9a7-06bf-4b31-f4c8-648272ca50be"
      },
      "source": [
        "# total count of sales on holidays and non holidays\n",
        "print('sales on non-holiday : ',train[train['Holiday']==False]['Sales'].count().round(1))\n",
        "print('sales on holiday : ',train[train['Holiday']==True]['Sales'].count().round(1))"
      ],
      "execution_count": null,
      "outputs": [
        {
          "output_type": "stream",
          "name": "stdout",
          "text": [
            "sales on non-holiday :  163506\n",
            "sales on holiday :  24815\n"
          ]
        }
      ]
    },
    {
      "cell_type": "code",
      "metadata": {
        "colab": {
          "base_uri": "https://localhost:8080/",
          "height": 615
        },
        "id": "essIWYNQvW0T",
        "outputId": "976e910b-2319-449a-afeb-fa6e525d87c7"
      },
      "source": [
        "# Plotting correlation between all important features\n",
        "corr = train.corr()\n",
        "plt.figure(figsize=(15, 10))\n",
        "sns.heatmap(corr, annot=True)\n",
        "plt.plot()"
      ],
      "execution_count": null,
      "outputs": [
        {
          "output_type": "execute_result",
          "data": {
            "text/plain": [
              "[]"
            ]
          },
          "metadata": {},
          "execution_count": 66
        },
        {
          "output_type": "display_data",
          "data": {
            "image/png": "[encoded data removed]",
            "text/plain": [
              "<Figure size 1080x720 with 2 Axes>"
            ]
          },
          "metadata": {
            "needs_background": "light"
          }
        }
      ]
    },
    {
      "cell_type": "code",
      "metadata": {
        "id": "2PVEgO8mvW0U"
      },
      "source": [
        "##Splitting Date into features\n"
      ],
      "execution_count": null,
      "outputs": []
    },
    {
      "cell_type": "code",
      "metadata": {
        "id": "CZyYMYK7vW0W"
      },
      "source": [
        "# Add column for year\n",
        "train[\"Year\"] = pd.to_datetime(train[\"Date\"], format=\"%Y-%m-%d\").dt.year\n",
        "test[\"Year\"] = pd.to_datetime(test[\"Date\"], format=\"%Y-%m-%d\").dt.year\n",
        "\n",
        "# Add column for day\n",
        "train[\"Day\"] = pd.to_datetime(train[\"Date\"], format=\"%Y-%m-%d\").dt.day\n",
        "test[\"Day\"] = pd.to_datetime(test[\"Date\"], format=\"%Y-%m-%d\").dt.day\n",
        "\n",
        "train[\"month\"] = pd.to_datetime(train[\"Date\"], format=\"%Y-%m-%d\").dt.month\n",
        "test[\"month\"] = pd.to_datetime(test[\"Date\"], format=\"%Y-%m-%d\").dt.month\n",
        "\n",
        "\n",
        "# Add column for days to next Christmas\n",
        "train[\"Days to Next Christmas\"] = (pd.to_datetime(train[\"Year\"].astype(str)+\"-12-31\", format=\"%Y-%m-%d\") -\n",
        "                                   pd.to_datetime(train[\"Date\"], format=\"%Y-%m-%d\")).dt.days.astype(int)\n",
        "test[\"Days to Next Christmas\"] = (pd.to_datetime(test[\"Year\"].astype(str)+\"-12-31\", format=\"%Y-%m-%d\") -\n",
        "                                   pd.to_datetime(test[\"Date\"], format=\"%Y-%m-%d\")).dt.days.astype(int)                                                                    "
      ],
      "execution_count": null,
      "outputs": []
    },
    {
      "cell_type": "code",
      "metadata": {
        "id": "PhMAFcL8Xf84"
      },
      "source": [
        ""
      ],
      "execution_count": null,
      "outputs": []
    },
    {
      "cell_type": "code",
      "metadata": {
        "colab": {
          "base_uri": "https://localhost:8080/",
          "height": 205
        },
        "id": "LlarhNHdvW0Y",
        "outputId": "61466612-7f59-4d0a-db1e-64445facf0eb"
      },
      "source": [
        "#Splitting Store type into categorical features.\n",
        "tp = pd.get_dummies(train['Store_Type'],drop_first = True)\n",
        "train = pd.concat([train, tp], axis=1)\n",
        "train = train.drop(columns='Store_Type')\n",
        "\n",
        "tp1 = pd.get_dummies(test['Store_Type'],drop_first = True)\n",
        "test = pd.concat([test, tp1], axis=1)\n",
        "test = test.drop(columns='Store_Type')\n",
        "\n",
        "rc = pd.get_dummies(train['Region_Code'],drop_first = True)\n",
        "train = pd.concat([train, rc], axis=1)\n",
        "train = train.drop(columns='Region_Code')\n",
        "\n",
        "rc1 = pd.get_dummies(test['Region_Code'],drop_first = True)\n",
        "test = pd.concat([test, rc1], axis=1)\n",
        "test = test.drop(columns='Region_Code')\n",
        "\n",
        "Discount = pd.get_dummies(train['Discount'],drop_first = True)\n",
        "train = pd.concat([train, Discount], axis=1)\n",
        "train = train.drop(columns='Discount')\n",
        "train.head()\n",
        "\n",
        "Discount1 = pd.get_dummies(test['Discount'],drop_first = True)\n",
        "test = pd.concat([test, Discount1], axis=1)\n",
        "test = test.drop(columns='Discount')\n",
        "test.head()"
      ],
      "execution_count": null,
      "outputs": [
        {
          "output_type": "execute_result",
          "data": {
            "text/html": [
              "<div>\n",
              "<style scoped>\n",
              "    .dataframe tbody tr th:only-of-type {\n",
              "        vertical-align: middle;\n",
              "    }\n",
              "\n",
              "    .dataframe tbody tr th {\n",
              "        vertical-align: top;\n",
              "    }\n",
              "\n",
              "    .dataframe thead th {\n",
              "        text-align: right;\n",
              "    }\n",
              "</style>\n",
              "<table border=\"1\" class=\"dataframe\">\n",
              "  <thead>\n",
              "    <tr style=\"text-align: right;\">\n",
              "      <th></th>\n",
              "      <th>Store_id</th>\n",
              "      <th>Location_Type</th>\n",
              "      <th>Date</th>\n",
              "      <th>Holiday</th>\n",
              "      <th>Year</th>\n",
              "      <th>Day</th>\n",
              "      <th>month</th>\n",
              "      <th>Days to Next Christmas</th>\n",
              "      <th>S2</th>\n",
              "      <th>S3</th>\n",
              "      <th>S4</th>\n",
              "      <th>R2</th>\n",
              "      <th>R3</th>\n",
              "      <th>R4</th>\n",
              "      <th>Yes</th>\n",
              "    </tr>\n",
              "  </thead>\n",
              "  <tbody>\n",
              "    <tr>\n",
              "      <th>0</th>\n",
              "      <td>171</td>\n",
              "      <td>L2</td>\n",
              "      <td>2019-06-01</td>\n",
              "      <td>0</td>\n",
              "      <td>2019</td>\n",
              "      <td>1</td>\n",
              "      <td>6</td>\n",
              "      <td>213</td>\n",
              "      <td>0</td>\n",
              "      <td>0</td>\n",
              "      <td>1</td>\n",
              "      <td>0</td>\n",
              "      <td>1</td>\n",
              "      <td>0</td>\n",
              "      <td>0</td>\n",
              "    </tr>\n",
              "    <tr>\n",
              "      <th>1</th>\n",
              "      <td>172</td>\n",
              "      <td>L1</td>\n",
              "      <td>2019-06-01</td>\n",
              "      <td>0</td>\n",
              "      <td>2019</td>\n",
              "      <td>1</td>\n",
              "      <td>6</td>\n",
              "      <td>213</td>\n",
              "      <td>0</td>\n",
              "      <td>0</td>\n",
              "      <td>0</td>\n",
              "      <td>0</td>\n",
              "      <td>0</td>\n",
              "      <td>0</td>\n",
              "      <td>0</td>\n",
              "    </tr>\n",
              "    <tr>\n",
              "      <th>2</th>\n",
              "      <td>173</td>\n",
              "      <td>L2</td>\n",
              "      <td>2019-06-01</td>\n",
              "      <td>0</td>\n",
              "      <td>2019</td>\n",
              "      <td>1</td>\n",
              "      <td>6</td>\n",
              "      <td>213</td>\n",
              "      <td>0</td>\n",
              "      <td>0</td>\n",
              "      <td>1</td>\n",
              "      <td>0</td>\n",
              "      <td>0</td>\n",
              "      <td>0</td>\n",
              "      <td>0</td>\n",
              "    </tr>\n",
              "    <tr>\n",
              "      <th>3</th>\n",
              "      <td>174</td>\n",
              "      <td>L1</td>\n",
              "      <td>2019-06-01</td>\n",
              "      <td>0</td>\n",
              "      <td>2019</td>\n",
              "      <td>1</td>\n",
              "      <td>6</td>\n",
              "      <td>213</td>\n",
              "      <td>0</td>\n",
              "      <td>0</td>\n",
              "      <td>0</td>\n",
              "      <td>0</td>\n",
              "      <td>0</td>\n",
              "      <td>1</td>\n",
              "      <td>0</td>\n",
              "    </tr>\n",
              "    <tr>\n",
              "      <th>4</th>\n",
              "      <td>170</td>\n",
              "      <td>L1</td>\n",
              "      <td>2019-06-01</td>\n",
              "      <td>0</td>\n",
              "      <td>2019</td>\n",
              "      <td>1</td>\n",
              "      <td>6</td>\n",
              "      <td>213</td>\n",
              "      <td>0</td>\n",
              "      <td>0</td>\n",
              "      <td>0</td>\n",
              "      <td>1</td>\n",
              "      <td>0</td>\n",
              "      <td>0</td>\n",
              "      <td>0</td>\n",
              "    </tr>\n",
              "  </tbody>\n",
              "</table>\n",
              "</div>"
            ],
            "text/plain": [
              "   Store_id Location_Type        Date  Holiday  Year  ...  S4  R2  R3  R4  Yes\n",
              "0       171            L2  2019-06-01        0  2019  ...   1   0   1   0    0\n",
              "1       172            L1  2019-06-01        0  2019  ...   0   0   0   0    0\n",
              "2       173            L2  2019-06-01        0  2019  ...   1   0   0   0    0\n",
              "3       174            L1  2019-06-01        0  2019  ...   0   0   0   1    0\n",
              "4       170            L1  2019-06-01        0  2019  ...   0   1   0   0    0\n",
              "\n",
              "[5 rows x 15 columns]"
            ]
          },
          "metadata": {},
          "execution_count": 69
        }
      ]
    },
    {
      "cell_type": "code",
      "metadata": {
        "colab": {
          "base_uri": "https://localhost:8080/"
        },
        "id": "e8vOjC4RvW0a",
        "outputId": "25b91d37-6088-4b73-940a-5a8246b82384"
      },
      "source": [
        "train.info()"
      ],
      "execution_count": null,
      "outputs": [
        {
          "output_type": "stream",
          "name": "stdout",
          "text": [
            "<class 'pandas.core.frame.DataFrame'>\n",
            "Int64Index: 188321 entries, 0 to 188339\n",
            "Data columns (total 16 columns):\n",
            " #   Column                  Non-Null Count   Dtype  \n",
            "---  ------                  --------------   -----  \n",
            " 0   Store_id                188321 non-null  int64  \n",
            " 1   Location_Type           188321 non-null  object \n",
            " 2   Date                    188321 non-null  object \n",
            " 3   Holiday                 188321 non-null  int64  \n",
            " 4   Sales                   188321 non-null  float64\n",
            " 5   Year                    188321 non-null  int64  \n",
            " 6   Day                     188321 non-null  int64  \n",
            " 7   month                   188321 non-null  int64  \n",
            " 8   Days to Next Christmas  188321 non-null  int64  \n",
            " 9   S2                      188321 non-null  uint8  \n",
            " 10  S3                      188321 non-null  uint8  \n",
            " 11  S4                      188321 non-null  uint8  \n",
            " 12  R2                      188321 non-null  uint8  \n",
            " 13  R3                      188321 non-null  uint8  \n",
            " 14  R4                      188321 non-null  uint8  \n",
            " 15  Yes                     188321 non-null  uint8  \n",
            "dtypes: float64(1), int64(6), object(2), uint8(7)\n",
            "memory usage: 20.6+ MB\n"
          ]
        }
      ]
    },
    {
      "cell_type": "code",
      "metadata": {
        "id": "jsRDQ1U-vW0c"
      },
      "source": [
        "#Building train-test set\n",
        "#splitting final data into train and test. We kept 80%of train data and 20% test data."
      ],
      "execution_count": null,
      "outputs": []
    },
    {
      "cell_type": "code",
      "metadata": {
        "colab": {
          "base_uri": "https://localhost:8080/"
        },
        "id": "D8rizpRivW0d",
        "outputId": "3b035e39-3f47-429e-b9c3-3efa0570bcc4"
      },
      "source": [
        "train.info()"
      ],
      "execution_count": null,
      "outputs": [
        {
          "output_type": "stream",
          "name": "stdout",
          "text": [
            "<class 'pandas.core.frame.DataFrame'>\n",
            "Int64Index: 188321 entries, 0 to 188339\n",
            "Data columns (total 16 columns):\n",
            " #   Column                  Non-Null Count   Dtype  \n",
            "---  ------                  --------------   -----  \n",
            " 0   Store_id                188321 non-null  int64  \n",
            " 1   Location_Type           188321 non-null  object \n",
            " 2   Date                    188321 non-null  object \n",
            " 3   Holiday                 188321 non-null  int64  \n",
            " 4   Sales                   188321 non-null  float64\n",
            " 5   Year                    188321 non-null  int64  \n",
            " 6   Day                     188321 non-null  int64  \n",
            " 7   month                   188321 non-null  int64  \n",
            " 8   Days to Next Christmas  188321 non-null  int64  \n",
            " 9   S2                      188321 non-null  uint8  \n",
            " 10  S3                      188321 non-null  uint8  \n",
            " 11  S4                      188321 non-null  uint8  \n",
            " 12  R2                      188321 non-null  uint8  \n",
            " 13  R3                      188321 non-null  uint8  \n",
            " 14  R4                      188321 non-null  uint8  \n",
            " 15  Yes                     188321 non-null  uint8  \n",
            "dtypes: float64(1), int64(6), object(2), uint8(7)\n",
            "memory usage: 20.6+ MB\n"
          ]
        }
      ]
    },
    {
      "cell_type": "code",
      "metadata": {
        "id": "I9EGAOt7vW0e"
      },
      "source": [
        "train.drop('Date',axis=1,inplace=True)\n",
        "test.drop('Date',axis=1,inplace=True)"
      ],
      "execution_count": null,
      "outputs": []
    },
    {
      "cell_type": "code",
      "metadata": {
        "colab": {
          "base_uri": "https://localhost:8080/"
        },
        "id": "6ljSSn9VvW0f",
        "outputId": "a3043997-889e-4094-aa5a-9a7e29003b5d"
      },
      "source": [
        "train.info()"
      ],
      "execution_count": null,
      "outputs": [
        {
          "output_type": "stream",
          "name": "stdout",
          "text": [
            "<class 'pandas.core.frame.DataFrame'>\n",
            "Int64Index: 188321 entries, 0 to 188339\n",
            "Data columns (total 15 columns):\n",
            " #   Column                  Non-Null Count   Dtype  \n",
            "---  ------                  --------------   -----  \n",
            " 0   Store_id                188321 non-null  int64  \n",
            " 1   Location_Type           188321 non-null  object \n",
            " 2   Holiday                 188321 non-null  int64  \n",
            " 3   Sales                   188321 non-null  float64\n",
            " 4   Year                    188321 non-null  int64  \n",
            " 5   Day                     188321 non-null  int64  \n",
            " 6   month                   188321 non-null  int64  \n",
            " 7   Days to Next Christmas  188321 non-null  int64  \n",
            " 8   S2                      188321 non-null  uint8  \n",
            " 9   S3                      188321 non-null  uint8  \n",
            " 10  S4                      188321 non-null  uint8  \n",
            " 11  R2                      188321 non-null  uint8  \n",
            " 12  R3                      188321 non-null  uint8  \n",
            " 13  R4                      188321 non-null  uint8  \n",
            " 14  Yes                     188321 non-null  uint8  \n",
            "dtypes: float64(1), int64(6), object(1), uint8(7)\n",
            "memory usage: 19.2+ MB\n"
          ]
        }
      ]
    },
    {
      "cell_type": "code",
      "metadata": {
        "id": "o4yKqfw_vW0g"
      },
      "source": [
        "enc = train[['Location_Type','Year']]\n",
        "enc1 = test[['Location_Type','Year']]"
      ],
      "execution_count": null,
      "outputs": []
    },
    {
      "cell_type": "code",
      "metadata": {
        "id": "lXTjDtoevW0h"
      },
      "source": [
        "from sklearn import preprocessing\n",
        "le = preprocessing.LabelEncoder()\n",
        "enc = enc.apply(le.fit_transform)\n",
        "enc.head()\n",
        "\n",
        "le = preprocessing.LabelEncoder()\n",
        "enc1 = enc1.apply(le.fit_transform)"
      ],
      "execution_count": null,
      "outputs": []
    },
    {
      "cell_type": "code",
      "metadata": {
        "colab": {
          "base_uri": "https://localhost:8080/",
          "height": 205
        },
        "id": "85M8su-JvW0i",
        "outputId": "ffb0a657-a09e-4fe4-e795-a808f8d9ba71"
      },
      "source": [
        "#Concatinating categorical dataframe with original dataframe\n",
        "train = train.drop(train[['Location_Type','Year']], axis=1)\n",
        "train = pd.concat([train,enc], axis=1)\n",
        "train.head()\n",
        "\n",
        "test = test.drop(test[['Location_Type','Year']], axis=1)\n",
        "test = pd.concat([test,enc1], axis=1)\n",
        "test.head()"
      ],
      "execution_count": null,
      "outputs": [
        {
          "output_type": "execute_result",
          "data": {
            "text/html": [
              "<div>\n",
              "<style scoped>\n",
              "    .dataframe tbody tr th:only-of-type {\n",
              "        vertical-align: middle;\n",
              "    }\n",
              "\n",
              "    .dataframe tbody tr th {\n",
              "        vertical-align: top;\n",
              "    }\n",
              "\n",
              "    .dataframe thead th {\n",
              "        text-align: right;\n",
              "    }\n",
              "</style>\n",
              "<table border=\"1\" class=\"dataframe\">\n",
              "  <thead>\n",
              "    <tr style=\"text-align: right;\">\n",
              "      <th></th>\n",
              "      <th>Store_id</th>\n",
              "      <th>Holiday</th>\n",
              "      <th>Day</th>\n",
              "      <th>month</th>\n",
              "      <th>Days to Next Christmas</th>\n",
              "      <th>S2</th>\n",
              "      <th>S3</th>\n",
              "      <th>S4</th>\n",
              "      <th>R2</th>\n",
              "      <th>R3</th>\n",
              "      <th>R4</th>\n",
              "      <th>Yes</th>\n",
              "      <th>Location_Type</th>\n",
              "      <th>Year</th>\n",
              "    </tr>\n",
              "  </thead>\n",
              "  <tbody>\n",
              "    <tr>\n",
              "      <th>0</th>\n",
              "      <td>171</td>\n",
              "      <td>0</td>\n",
              "      <td>1</td>\n",
              "      <td>6</td>\n",
              "      <td>213</td>\n",
              "      <td>0</td>\n",
              "      <td>0</td>\n",
              "      <td>1</td>\n",
              "      <td>0</td>\n",
              "      <td>1</td>\n",
              "      <td>0</td>\n",
              "      <td>0</td>\n",
              "      <td>1</td>\n",
              "      <td>0</td>\n",
              "    </tr>\n",
              "    <tr>\n",
              "      <th>1</th>\n",
              "      <td>172</td>\n",
              "      <td>0</td>\n",
              "      <td>1</td>\n",
              "      <td>6</td>\n",
              "      <td>213</td>\n",
              "      <td>0</td>\n",
              "      <td>0</td>\n",
              "      <td>0</td>\n",
              "      <td>0</td>\n",
              "      <td>0</td>\n",
              "      <td>0</td>\n",
              "      <td>0</td>\n",
              "      <td>0</td>\n",
              "      <td>0</td>\n",
              "    </tr>\n",
              "    <tr>\n",
              "      <th>2</th>\n",
              "      <td>173</td>\n",
              "      <td>0</td>\n",
              "      <td>1</td>\n",
              "      <td>6</td>\n",
              "      <td>213</td>\n",
              "      <td>0</td>\n",
              "      <td>0</td>\n",
              "      <td>1</td>\n",
              "      <td>0</td>\n",
              "      <td>0</td>\n",
              "      <td>0</td>\n",
              "      <td>0</td>\n",
              "      <td>1</td>\n",
              "      <td>0</td>\n",
              "    </tr>\n",
              "    <tr>\n",
              "      <th>3</th>\n",
              "      <td>174</td>\n",
              "      <td>0</td>\n",
              "      <td>1</td>\n",
              "      <td>6</td>\n",
              "      <td>213</td>\n",
              "      <td>0</td>\n",
              "      <td>0</td>\n",
              "      <td>0</td>\n",
              "      <td>0</td>\n",
              "      <td>0</td>\n",
              "      <td>1</td>\n",
              "      <td>0</td>\n",
              "      <td>0</td>\n",
              "      <td>0</td>\n",
              "    </tr>\n",
              "    <tr>\n",
              "      <th>4</th>\n",
              "      <td>170</td>\n",
              "      <td>0</td>\n",
              "      <td>1</td>\n",
              "      <td>6</td>\n",
              "      <td>213</td>\n",
              "      <td>0</td>\n",
              "      <td>0</td>\n",
              "      <td>0</td>\n",
              "      <td>1</td>\n",
              "      <td>0</td>\n",
              "      <td>0</td>\n",
              "      <td>0</td>\n",
              "      <td>0</td>\n",
              "      <td>0</td>\n",
              "    </tr>\n",
              "  </tbody>\n",
              "</table>\n",
              "</div>"
            ],
            "text/plain": [
              "   Store_id  Holiday  Day  month  ...  R4  Yes  Location_Type  Year\n",
              "0       171        0    1      6  ...   0    0              1     0\n",
              "1       172        0    1      6  ...   0    0              0     0\n",
              "2       173        0    1      6  ...   0    0              1     0\n",
              "3       174        0    1      6  ...   1    0              0     0\n",
              "4       170        0    1      6  ...   0    0              0     0\n",
              "\n",
              "[5 rows x 14 columns]"
            ]
          },
          "metadata": {},
          "execution_count": 77
        }
      ]
    },
    {
      "cell_type": "code",
      "metadata": {
        "colab": {
          "base_uri": "https://localhost:8080/",
          "height": 205
        },
        "id": "thvxcqqZ22Dg",
        "outputId": "e6b22dc5-6019-4cf2-8a0b-c16f6c821b75"
      },
      "source": [
        "train.head(5)"
      ],
      "execution_count": null,
      "outputs": [
        {
          "output_type": "execute_result",
          "data": {
            "text/html": [
              "<div>\n",
              "<style scoped>\n",
              "    .dataframe tbody tr th:only-of-type {\n",
              "        vertical-align: middle;\n",
              "    }\n",
              "\n",
              "    .dataframe tbody tr th {\n",
              "        vertical-align: top;\n",
              "    }\n",
              "\n",
              "    .dataframe thead th {\n",
              "        text-align: right;\n",
              "    }\n",
              "</style>\n",
              "<table border=\"1\" class=\"dataframe\">\n",
              "  <thead>\n",
              "    <tr style=\"text-align: right;\">\n",
              "      <th></th>\n",
              "      <th>Store_id</th>\n",
              "      <th>Holiday</th>\n",
              "      <th>Sales</th>\n",
              "      <th>Day</th>\n",
              "      <th>month</th>\n",
              "      <th>Days to Next Christmas</th>\n",
              "      <th>S2</th>\n",
              "      <th>S3</th>\n",
              "      <th>S4</th>\n",
              "      <th>R2</th>\n",
              "      <th>R3</th>\n",
              "      <th>R4</th>\n",
              "      <th>Yes</th>\n",
              "      <th>Location_Type</th>\n",
              "      <th>Year</th>\n",
              "    </tr>\n",
              "  </thead>\n",
              "  <tbody>\n",
              "    <tr>\n",
              "      <th>0</th>\n",
              "      <td>1</td>\n",
              "      <td>1</td>\n",
              "      <td>7011.84</td>\n",
              "      <td>1</td>\n",
              "      <td>1</td>\n",
              "      <td>364</td>\n",
              "      <td>0</td>\n",
              "      <td>0</td>\n",
              "      <td>0</td>\n",
              "      <td>0</td>\n",
              "      <td>0</td>\n",
              "      <td>0</td>\n",
              "      <td>1</td>\n",
              "      <td>2</td>\n",
              "      <td>0</td>\n",
              "    </tr>\n",
              "    <tr>\n",
              "      <th>248</th>\n",
              "      <td>64</td>\n",
              "      <td>1</td>\n",
              "      <td>42293.94</td>\n",
              "      <td>1</td>\n",
              "      <td>1</td>\n",
              "      <td>364</td>\n",
              "      <td>0</td>\n",
              "      <td>1</td>\n",
              "      <td>0</td>\n",
              "      <td>1</td>\n",
              "      <td>0</td>\n",
              "      <td>0</td>\n",
              "      <td>1</td>\n",
              "      <td>0</td>\n",
              "      <td>0</td>\n",
              "    </tr>\n",
              "    <tr>\n",
              "      <th>247</th>\n",
              "      <td>65</td>\n",
              "      <td>1</td>\n",
              "      <td>46070.64</td>\n",
              "      <td>1</td>\n",
              "      <td>1</td>\n",
              "      <td>364</td>\n",
              "      <td>0</td>\n",
              "      <td>0</td>\n",
              "      <td>0</td>\n",
              "      <td>1</td>\n",
              "      <td>0</td>\n",
              "      <td>0</td>\n",
              "      <td>1</td>\n",
              "      <td>1</td>\n",
              "      <td>0</td>\n",
              "    </tr>\n",
              "    <tr>\n",
              "      <th>246</th>\n",
              "      <td>66</td>\n",
              "      <td>1</td>\n",
              "      <td>26151.12</td>\n",
              "      <td>1</td>\n",
              "      <td>1</td>\n",
              "      <td>364</td>\n",
              "      <td>0</td>\n",
              "      <td>1</td>\n",
              "      <td>0</td>\n",
              "      <td>0</td>\n",
              "      <td>1</td>\n",
              "      <td>0</td>\n",
              "      <td>1</td>\n",
              "      <td>2</td>\n",
              "      <td>0</td>\n",
              "    </tr>\n",
              "    <tr>\n",
              "      <th>245</th>\n",
              "      <td>67</td>\n",
              "      <td>1</td>\n",
              "      <td>44949.45</td>\n",
              "      <td>1</td>\n",
              "      <td>1</td>\n",
              "      <td>364</td>\n",
              "      <td>1</td>\n",
              "      <td>0</td>\n",
              "      <td>0</td>\n",
              "      <td>0</td>\n",
              "      <td>0</td>\n",
              "      <td>0</td>\n",
              "      <td>1</td>\n",
              "      <td>4</td>\n",
              "      <td>0</td>\n",
              "    </tr>\n",
              "  </tbody>\n",
              "</table>\n",
              "</div>"
            ],
            "text/plain": [
              "     Store_id  Holiday     Sales  Day  month  ...  R3  R4  Yes  Location_Type  Year\n",
              "0           1        1   7011.84    1      1  ...   0   0    1              2     0\n",
              "248        64        1  42293.94    1      1  ...   0   0    1              0     0\n",
              "247        65        1  46070.64    1      1  ...   0   0    1              1     0\n",
              "246        66        1  26151.12    1      1  ...   1   0    1              2     0\n",
              "245        67        1  44949.45    1      1  ...   0   0    1              4     0\n",
              "\n",
              "[5 rows x 15 columns]"
            ]
          },
          "metadata": {},
          "execution_count": 78
        }
      ]
    },
    {
      "cell_type": "code",
      "metadata": {
        "id": "BozSH0q9vW0j"
      },
      "source": [
        "x = train.drop('Sales', axis=1).values\n",
        "y = train.Sales.values"
      ],
      "execution_count": null,
      "outputs": []
    },
    {
      "cell_type": "code",
      "metadata": {
        "colab": {
          "base_uri": "https://localhost:8080/",
          "height": 205
        },
        "id": "whNO6bu2nSj3",
        "outputId": "e8ce0993-6999-4075-dd90-e3cb4ef79be3"
      },
      "source": [
        "test.head()"
      ],
      "execution_count": null,
      "outputs": [
        {
          "output_type": "execute_result",
          "data": {
            "text/html": [
              "<div>\n",
              "<style scoped>\n",
              "    .dataframe tbody tr th:only-of-type {\n",
              "        vertical-align: middle;\n",
              "    }\n",
              "\n",
              "    .dataframe tbody tr th {\n",
              "        vertical-align: top;\n",
              "    }\n",
              "\n",
              "    .dataframe thead th {\n",
              "        text-align: right;\n",
              "    }\n",
              "</style>\n",
              "<table border=\"1\" class=\"dataframe\">\n",
              "  <thead>\n",
              "    <tr style=\"text-align: right;\">\n",
              "      <th></th>\n",
              "      <th>Store_id</th>\n",
              "      <th>Holiday</th>\n",
              "      <th>Day</th>\n",
              "      <th>month</th>\n",
              "      <th>Days to Next Christmas</th>\n",
              "      <th>S2</th>\n",
              "      <th>S3</th>\n",
              "      <th>S4</th>\n",
              "      <th>R2</th>\n",
              "      <th>R3</th>\n",
              "      <th>R4</th>\n",
              "      <th>Yes</th>\n",
              "      <th>Location_Type</th>\n",
              "      <th>Year</th>\n",
              "    </tr>\n",
              "  </thead>\n",
              "  <tbody>\n",
              "    <tr>\n",
              "      <th>0</th>\n",
              "      <td>171</td>\n",
              "      <td>0</td>\n",
              "      <td>1</td>\n",
              "      <td>6</td>\n",
              "      <td>213</td>\n",
              "      <td>0</td>\n",
              "      <td>0</td>\n",
              "      <td>1</td>\n",
              "      <td>0</td>\n",
              "      <td>1</td>\n",
              "      <td>0</td>\n",
              "      <td>0</td>\n",
              "      <td>1</td>\n",
              "      <td>0</td>\n",
              "    </tr>\n",
              "    <tr>\n",
              "      <th>1</th>\n",
              "      <td>172</td>\n",
              "      <td>0</td>\n",
              "      <td>1</td>\n",
              "      <td>6</td>\n",
              "      <td>213</td>\n",
              "      <td>0</td>\n",
              "      <td>0</td>\n",
              "      <td>0</td>\n",
              "      <td>0</td>\n",
              "      <td>0</td>\n",
              "      <td>0</td>\n",
              "      <td>0</td>\n",
              "      <td>0</td>\n",
              "      <td>0</td>\n",
              "    </tr>\n",
              "    <tr>\n",
              "      <th>2</th>\n",
              "      <td>173</td>\n",
              "      <td>0</td>\n",
              "      <td>1</td>\n",
              "      <td>6</td>\n",
              "      <td>213</td>\n",
              "      <td>0</td>\n",
              "      <td>0</td>\n",
              "      <td>1</td>\n",
              "      <td>0</td>\n",
              "      <td>0</td>\n",
              "      <td>0</td>\n",
              "      <td>0</td>\n",
              "      <td>1</td>\n",
              "      <td>0</td>\n",
              "    </tr>\n",
              "    <tr>\n",
              "      <th>3</th>\n",
              "      <td>174</td>\n",
              "      <td>0</td>\n",
              "      <td>1</td>\n",
              "      <td>6</td>\n",
              "      <td>213</td>\n",
              "      <td>0</td>\n",
              "      <td>0</td>\n",
              "      <td>0</td>\n",
              "      <td>0</td>\n",
              "      <td>0</td>\n",
              "      <td>1</td>\n",
              "      <td>0</td>\n",
              "      <td>0</td>\n",
              "      <td>0</td>\n",
              "    </tr>\n",
              "    <tr>\n",
              "      <th>4</th>\n",
              "      <td>170</td>\n",
              "      <td>0</td>\n",
              "      <td>1</td>\n",
              "      <td>6</td>\n",
              "      <td>213</td>\n",
              "      <td>0</td>\n",
              "      <td>0</td>\n",
              "      <td>0</td>\n",
              "      <td>1</td>\n",
              "      <td>0</td>\n",
              "      <td>0</td>\n",
              "      <td>0</td>\n",
              "      <td>0</td>\n",
              "      <td>0</td>\n",
              "    </tr>\n",
              "  </tbody>\n",
              "</table>\n",
              "</div>"
            ],
            "text/plain": [
              "   Store_id  Holiday  Day  month  ...  R4  Yes  Location_Type  Year\n",
              "0       171        0    1      6  ...   0    0              1     0\n",
              "1       172        0    1      6  ...   0    0              0     0\n",
              "2       173        0    1      6  ...   0    0              1     0\n",
              "3       174        0    1      6  ...   1    0              0     0\n",
              "4       170        0    1      6  ...   0    0              0     0\n",
              "\n",
              "[5 rows x 14 columns]"
            ]
          },
          "metadata": {},
          "execution_count": 80
        }
      ]
    },
    {
      "cell_type": "code",
      "metadata": {
        "id": "RWZLlcawvW0j"
      },
      "source": [
        "#train-test split\n",
        "from sklearn.model_selection import train_test_split \n",
        "X_train,X_test,y_train,y_test=train_test_split( x, y, test_size=0.20, random_state=0)"
      ],
      "execution_count": null,
      "outputs": []
    },
    {
      "cell_type": "code",
      "metadata": {
        "colab": {
          "base_uri": "https://localhost:8080/"
        },
        "id": "18YgVabmNN53",
        "outputId": "6bfcaa7d-6314-44d2-beb0-4c7f7918b6e7"
      },
      "source": [
        "from sklearn.preprocessing import MinMaxScaler\n",
        "scaler = MinMaxScaler()\n",
        "scaler.fit_transform(X_train)\n",
        "scaler.transform(X_test)"
      ],
      "execution_count": null,
      "outputs": [
        {
          "output_type": "execute_result",
          "data": {
            "text/plain": [
              "array([[0.78571429, 0.        , 0.3       , ..., 0.        , 0.75      ,\n",
              "        0.        ],\n",
              "       [0.61813187, 0.        , 0.46666667, ..., 1.        , 1.        ,\n",
              "        0.        ],\n",
              "       [0.06318681, 0.        , 0.1       , ..., 1.        , 0.        ,\n",
              "        0.        ],\n",
              "       ...,\n",
              "       [0.84065934, 0.        , 0.06666667, ..., 0.        , 1.        ,\n",
              "        0.        ],\n",
              "       [0.3543956 , 1.        , 0.43333333, ..., 1.        , 0.        ,\n",
              "        0.        ],\n",
              "       [0.37637363, 0.        , 0.23333333, ..., 1.        , 0.        ,\n",
              "        1.        ]])"
            ]
          },
          "metadata": {},
          "execution_count": 82
        }
      ]
    },
    {
      "cell_type": "code",
      "metadata": {
        "colab": {
          "base_uri": "https://localhost:8080/"
        },
        "id": "vcgoJA4HvW0q",
        "outputId": "90fffcfc-6933-4a4d-a4dd-132b1ec38b5b"
      },
      "source": [
        "import lightgbm as ltb\n",
        "xgb_clf = ltb.LGBMRegressor(\n",
        "                          alpha=0.1,\n",
        "                          learningRate=0.1,\n",
        "                          numIterations=70,\n",
        "                          numLeaves=20,n_estimators=1000,min_child_samples=50)\n",
        "xgb_clf.fit(X_train,y_train)            \n",
        "y_pred=xgb_clf.predict(X_test)\n",
        "\n",
        "print(\"Bagging with Random Forest Classifier :Accuracy \", (r2_score(y_test,y_pred)))"
      ],
      "execution_count": null,
      "outputs": [
        {
          "output_type": "stream",
          "name": "stdout",
          "text": [
            "Bagging with Random Forest Classifier :Accuracy  0.8411449797990511\n"
          ]
        }
      ]
    },
    {
      "cell_type": "code",
      "metadata": {
        "id": "H13cgH1LzWV0",
        "colab": {
          "base_uri": "https://localhost:8080/"
        },
        "outputId": "7ef35a1f-b8f3-4fbb-a9b0-eea21284ebea"
      },
      "source": [
        "print(xgb_clf.score(X_train,y_train))\n",
        "print(xgb_clf.score(X_test,y_test))\n",
        "\n",
        "\n"
      ],
      "execution_count": null,
      "outputs": [
        {
          "output_type": "stream",
          "name": "stdout",
          "text": [
            "0.8588220813645988\n",
            "0.8411449797990511\n"
          ]
        }
      ]
    },
    {
      "cell_type": "code",
      "metadata": {
        "id": "Uaau4PZG2Rbw",
        "colab": {
          "base_uri": "https://localhost:8080/",
          "height": 316
        },
        "outputId": "79cf4765-1591-47b0-c584-2dc903f9149f"
      },
      "source": [
        "from sklearn.metrics import mean_squared_log_error\n",
        "print(mean_squared_log_error(y_test, y_pred))"
      ],
      "execution_count": null,
      "outputs": [
        {
          "output_type": "error",
          "ename": "ValueError",
          "evalue": "ignored",
          "traceback": [
            "\u001b[0;31m---------------------------------------------------------------------------\u001b[0m",
            "\u001b[0;31mValueError\u001b[0m                                Traceback (most recent call last)",
            "\u001b[0;32m<ipython-input-85-a9626ca9b1b5>\u001b[0m in \u001b[0;36m<module>\u001b[0;34m()\u001b[0m\n\u001b[1;32m      1\u001b[0m \u001b[0;32mfrom\u001b[0m \u001b[0msklearn\u001b[0m\u001b[0;34m.\u001b[0m\u001b[0mmetrics\u001b[0m \u001b[0;32mimport\u001b[0m \u001b[0mmean_squared_log_error\u001b[0m\u001b[0;34m\u001b[0m\u001b[0;34m\u001b[0m\u001b[0m\n\u001b[0;32m----> 2\u001b[0;31m \u001b[0mprint\u001b[0m\u001b[0;34m(\u001b[0m\u001b[0mmean_squared_log_error\u001b[0m\u001b[0;34m(\u001b[0m\u001b[0my_test\u001b[0m\u001b[0;34m,\u001b[0m \u001b[0my_pred\u001b[0m\u001b[0;34m)\u001b[0m\u001b[0;34m)\u001b[0m\u001b[0;34m\u001b[0m\u001b[0;34m\u001b[0m\u001b[0m\n\u001b[0m",
            "\u001b[0;32m/usr/local/lib/python3.7/dist-packages/sklearn/metrics/_regression.py\u001b[0m in \u001b[0;36mmean_squared_log_error\u001b[0;34m(y_true, y_pred, sample_weight, multioutput)\u001b[0m\n\u001b[1;32m    324\u001b[0m \u001b[0;34m\u001b[0m\u001b[0m\n\u001b[1;32m    325\u001b[0m     \u001b[0;32mif\u001b[0m \u001b[0;34m(\u001b[0m\u001b[0my_true\u001b[0m \u001b[0;34m<\u001b[0m \u001b[0;36m0\u001b[0m\u001b[0;34m)\u001b[0m\u001b[0;34m.\u001b[0m\u001b[0many\u001b[0m\u001b[0;34m(\u001b[0m\u001b[0;34m)\u001b[0m \u001b[0;32mor\u001b[0m \u001b[0;34m(\u001b[0m\u001b[0my_pred\u001b[0m \u001b[0;34m<\u001b[0m \u001b[0;36m0\u001b[0m\u001b[0;34m)\u001b[0m\u001b[0;34m.\u001b[0m\u001b[0many\u001b[0m\u001b[0;34m(\u001b[0m\u001b[0;34m)\u001b[0m\u001b[0;34m:\u001b[0m\u001b[0;34m\u001b[0m\u001b[0;34m\u001b[0m\u001b[0m\n\u001b[0;32m--> 326\u001b[0;31m         raise ValueError(\"Mean Squared Logarithmic Error cannot be used when \"\n\u001b[0m\u001b[1;32m    327\u001b[0m                          \"targets contain negative values.\")\n\u001b[1;32m    328\u001b[0m \u001b[0;34m\u001b[0m\u001b[0m\n",
            "\u001b[0;31mValueError\u001b[0m: Mean Squared Logarithmic Error cannot be used when targets contain negative values."
          ]
        }
      ]
    },
    {
      "cell_type": "code",
      "metadata": {
        "id": "enW4cK9rotxm"
      },
      "source": [
        "preds=xgb_clf.predict(test)\n"
      ],
      "execution_count": null,
      "outputs": []
    },
    {
      "cell_type": "code",
      "metadata": {
        "id": "EH2qS9OOovNB"
      },
      "source": [
        "preds"
      ],
      "execution_count": null,
      "outputs": []
    },
    {
      "cell_type": "code",
      "metadata": {
        "id": "ik0Z7lQTDffM"
      },
      "source": [
        "sample =  pd.read_csv('TEST_FINAL.csv')\n",
        "pid = sample['ID'].values\n",
        "pid"
      ],
      "execution_count": null,
      "outputs": []
    },
    {
      "cell_type": "code",
      "metadata": {
        "id": "nKsE7ZlREH1H"
      },
      "source": [
        "out_df = pd.DataFrame({'ID' : pid,'Sales': preds})\n",
        "out_df.head()"
      ],
      "execution_count": null,
      "outputs": []
    },
    {
      "cell_type": "code",
      "metadata": {
        "id": "JiYf4-nXEX9a"
      },
      "source": [
        "out_df.to_csv('submission.csv', index=False)"
      ],
      "execution_count": null,
      "outputs": []
    },
    {
      "cell_type": "code",
      "metadata": {
        "id": "UEdvd4PVEbDT"
      },
      "source": [
        "out_df"
      ],
      "execution_count": null,
      "outputs": []
    },
    {
      "cell_type": "code",
      "metadata": {
        "id": "QNnk-qmYDJLr"
      },
      "source": [
        ""
      ],
      "execution_count": null,
      "outputs": []
    }
  ]
}